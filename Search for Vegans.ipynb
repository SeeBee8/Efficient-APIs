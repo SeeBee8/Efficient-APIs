{
 "cells": [
  {
   "cell_type": "code",
   "execution_count": 1,
   "id": "203e0296-f59e-4838-a4f1-a79e84dc4d95",
   "metadata": {},
   "outputs": [],
   "source": [
    "#Standard Imports\n",
    "import numpy as np\n",
    "import pandas as pd\n",
    "import matplotlib.pyplot as plt\n",
    "import seaborn as sns\n",
    "\n",
    "#Additional Imports\n",
    "import os, json, math, time\n",
    "from yelpapi import YelpAPI\n",
    "from tqdm.notebook import tqdm_notebook"
   ]
  },
  {
   "cell_type": "code",
   "execution_count": 2,
   "id": "3c35fa2c-ae21-4521-84e6-f7f062f5b645",
   "metadata": {},
   "outputs": [],
   "source": [
    "#credentials\n",
    "with open('/Users/csbro/.secret/yelp_api.json') as f:\n",
    "    login= json.load(f)\n",
    "yelp_api = YelpAPI(login['api_key'], timeout_s=5.0)"
   ]
  },
  {
   "cell_type": "code",
   "execution_count": 3,
   "id": "10c176e4-e2fa-4cb7-b7be-76b533e9b23a",
   "metadata": {},
   "outputs": [],
   "source": [
    "#Set call parameters\n",
    "LOCATION='Columbus, OH'\n",
    "TERM='vegan'"
   ]
  },
  {
   "cell_type": "code",
   "execution_count": 5,
   "id": "442393ff-8327-4ace-b7bc-7a00d621be91",
   "metadata": {
    "scrolled": true
   },
   "outputs": [
    {
     "data": {
      "text/plain": [
       "'data/in_progress_ohio.json'"
      ]
     },
     "execution_count": 5,
     "metadata": {},
     "output_type": "execute_result"
    }
   ],
   "source": [
    "\n",
    "joiho =\"data/in_progress_ohio.json\"\n",
    "JSON_FILE = joiho\n",
    "JSON_FILE"
   ]
  },
  {
   "cell_type": "code",
   "execution_count": 6,
   "id": "153ac7d9-dbc1-47f1-a233-7d1eca443c07",
   "metadata": {},
   "outputs": [],
   "source": [
    "def create_json_file(JSON_FILE,  delete_if_exists=False):\n",
    "    \n",
    "    ## Check if JSON_FILE exists\n",
    "    file_exists = os.path.isfile(JSON_FILE)\n",
    "    \n",
    "    ## If it DOES exist:\n",
    "    if file_exists == True:\n",
    "        \n",
    "        ## Check if user wants to delete if exists\n",
    "        if delete_if_exists==True:\n",
    "            \n",
    "            print(f\"[!] {JSON_FILE} already exists. Deleting previous file...\")\n",
    "            ## delete file and confirm it no longer exits.\n",
    "            os.remove(JSON_FILE)\n",
    "            ## Recursive call to function after old file deleted\n",
    "            create_json_file(JSON_FILE,delete_if_exists=False)\n",
    "        else:\n",
    "            print(f\"[i] {JSON_FILE} already exists.\")            \n",
    "            \n",
    "            \n",
    "    ## If it does NOT exist:\n",
    "    else:\n",
    "        \n",
    "        ## INFORM USER AND SAVE EMPTY LIST\n",
    "        print(f\"[i] {JSON_FILE} not found. Saving empty list to new file.\")\n",
    "        \n",
    "        ## CREATE ANY NEEDED FOLDERS\n",
    "        # Get the Folder Name only\n",
    "        folder = os.path.dirname(JSON_FILE)\n",
    "        \n",
    "        ## If JSON_FILE included a folder:\n",
    "        if len(folder)>0:\n",
    "            # create the folder\n",
    "            os.makedirs(folder,exist_ok=True)\n",
    "        ## Save empty list to start the json file\n",
    "        with open(JSON_FILE,'w') as f:\n",
    "            json.dump([],f)  \n",
    "\n"
   ]
  },
  {
   "cell_type": "code",
   "execution_count": 7,
   "id": "21470c18-1c9c-4b8f-838c-8fb3f04b2cfa",
   "metadata": {},
   "outputs": [
    {
     "name": "stdout",
     "output_type": "stream",
     "text": [
      "[!] data/in_progress_ohio.json already exists. Deleting previous file...\n",
      "[i] data/in_progress_ohio.json not found. Saving empty list to new file.\n",
      "- 0 previous results found.\n"
     ]
    },
    {
     "data": {
      "text/plain": [
       "55"
      ]
     },
     "execution_count": 7,
     "metadata": {},
     "output_type": "execute_result"
    }
   ],
   "source": [
    "## Create a new empty json file (exist the previous if it exists)\n",
    "create_json_file(JSON_FILE, delete_if_exists=True)\n",
    "## Load previous results and use len of results for offset\n",
    "with open(JSON_FILE,'r') as f:\n",
    "    previous_results = json.load(f)\n",
    "    \n",
    "## set offset based on previous results\n",
    "n_results = len(previous_results)\n",
    "print(f'- {n_results} previous results found.')\n",
    "# use our yelp_api variable's search_query method to perform our API call\n",
    "results = yelp_api.search_query(location=LOCATION,\n",
    "                                term=TERM,\n",
    "                               offset=n_results)\n",
    "## How many results total?\n",
    "total_results = results['total']\n",
    "## How many did we get the details for?\n",
    "results_per_page = len(results['businesses'])\n",
    "# Use math.ceil to round up for the total number of pages of results.\n",
    "n_pages = math.ceil((results['total']-n_results)/ results_per_page)\n",
    "n_pages\n",
    "\n"
   ]
  },
  {
   "cell_type": "code",
   "execution_count": 8,
   "id": "24cf2a75-62cb-42df-b288-6c1a76981494",
   "metadata": {},
   "outputs": [
    {
     "data": {
      "application/vnd.jupyter.widget-view+json": {
       "model_id": "fbe895632a98471f8d54869da483c4de",
       "version_major": 2,
       "version_minor": 0
      },
      "text/plain": [
       "  0%|          | 0/55 [00:00<?, ?it/s]"
      ]
     },
     "metadata": {},
     "output_type": "display_data"
    },
    {
     "name": "stdout",
     "output_type": "stream",
     "text": [
      "Exceeded 1000 api calls. Stopping loop.\n"
     ]
    }
   ],
   "source": [
    "for i in tqdm_notebook( range(1,n_pages+1)):\n",
    "    \n",
    "    ## Read in results in progress file and check the length\n",
    "    with open(JSON_FILE, 'r') as f:\n",
    "        previous_results = json.load(f)\n",
    "    ## save number of results for to use as offset\n",
    "    n_results = len(previous_results)\n",
    "    \n",
    "    if (n_results + results_per_page) > 1000:\n",
    "        print('Exceeded 1000 api calls. Stopping loop.')\n",
    "        break\n",
    "    \n",
    "    ## use n_results as the OFFSET \n",
    "    results = yelp_api.search_query(location=LOCATION,\n",
    "                                    term=TERM, \n",
    "                                    offset=n_results)\n",
    "    \n",
    "    \n",
    "    \n",
    "    ## append new results and save to file\n",
    "    previous_results.extend(results['businesses'])\n",
    "    \n",
    "    # display(previous_results)\n",
    "    with open(JSON_FILE,'w') as f:\n",
    "        json.dump(previous_results,f)\n",
    "    \n",
    "    time.sleep(.2)\n",
    "\n"
   ]
  },
  {
   "cell_type": "code",
   "execution_count": 11,
   "id": "e3eb9bf1-7bb8-41cd-a709-f743cb2069f8",
   "metadata": {
    "scrolled": true
   },
   "outputs": [
    {
     "data": {
      "text/html": [
       "<div>\n",
       "<style scoped>\n",
       "    .dataframe tbody tr th:only-of-type {\n",
       "        vertical-align: middle;\n",
       "    }\n",
       "\n",
       "    .dataframe tbody tr th {\n",
       "        vertical-align: top;\n",
       "    }\n",
       "\n",
       "    .dataframe thead th {\n",
       "        text-align: right;\n",
       "    }\n",
       "</style>\n",
       "<table border=\"1\" class=\"dataframe\">\n",
       "  <thead>\n",
       "    <tr style=\"text-align: right;\">\n",
       "      <th></th>\n",
       "      <th>id</th>\n",
       "      <th>alias</th>\n",
       "      <th>name</th>\n",
       "      <th>image_url</th>\n",
       "      <th>is_closed</th>\n",
       "      <th>url</th>\n",
       "      <th>review_count</th>\n",
       "      <th>categories</th>\n",
       "      <th>rating</th>\n",
       "      <th>coordinates</th>\n",
       "      <th>transactions</th>\n",
       "      <th>price</th>\n",
       "      <th>location</th>\n",
       "      <th>phone</th>\n",
       "      <th>display_phone</th>\n",
       "      <th>distance</th>\n",
       "    </tr>\n",
       "  </thead>\n",
       "  <tbody>\n",
       "    <tr>\n",
       "      <th>0</th>\n",
       "      <td>3qAXc_4kpqxEIAamgaoNpA</td>\n",
       "      <td>woodhouse-vegan-columbus</td>\n",
       "      <td>Woodhouse Vegan</td>\n",
       "      <td>https://s3-media3.fl.yelpcdn.com/bphoto/Jnwq0d...</td>\n",
       "      <td>False</td>\n",
       "      <td>https://www.yelp.com/biz/woodhouse-vegan-colum...</td>\n",
       "      <td>62</td>\n",
       "      <td>[{'alias': 'popuprestaurants', 'title': 'Pop-U...</td>\n",
       "      <td>4.5</td>\n",
       "      <td>{'latitude': 39.980514, 'longitude': -82.998578}</td>\n",
       "      <td>[delivery, pickup]</td>\n",
       "      <td>$$</td>\n",
       "      <td>{'address1': '851 N 4th St', 'address2': '', '...</td>\n",
       "      <td>+16144009127</td>\n",
       "      <td>(614) 400-9127</td>\n",
       "      <td>3463.052057</td>\n",
       "    </tr>\n",
       "    <tr>\n",
       "      <th>1</th>\n",
       "      <td>_QEJgq3HIC5g0Rnk99RipQ</td>\n",
       "      <td>portias-cafe-columbus</td>\n",
       "      <td>Portia's Cafe</td>\n",
       "      <td>https://s3-media2.fl.yelpcdn.com/bphoto/Q0MCG7...</td>\n",
       "      <td>False</td>\n",
       "      <td>https://www.yelp.com/biz/portias-cafe-columbus...</td>\n",
       "      <td>387</td>\n",
       "      <td>[{'alias': 'vegan', 'title': 'Vegan'}, {'alias...</td>\n",
       "      <td>4.5</td>\n",
       "      <td>{'latitude': 40.0550327, 'longitude': -83.0000...</td>\n",
       "      <td>[delivery, pickup]</td>\n",
       "      <td>$$</td>\n",
       "      <td>{'address1': '4428 Indianola Ave', 'address2':...</td>\n",
       "      <td>+16149283252</td>\n",
       "      <td>(614) 928-3252</td>\n",
       "      <td>4824.120359</td>\n",
       "    </tr>\n",
       "    <tr>\n",
       "      <th>2</th>\n",
       "      <td>gFnY2v0tnAr8umzHgSbk3Q</td>\n",
       "      <td>4th-and-state-columbus-2</td>\n",
       "      <td>4th &amp; State</td>\n",
       "      <td>https://s3-media1.fl.yelpcdn.com/bphoto/J3-PkB...</td>\n",
       "      <td>False</td>\n",
       "      <td>https://www.yelp.com/biz/4th-and-state-columbu...</td>\n",
       "      <td>105</td>\n",
       "      <td>[{'alias': 'vegan', 'title': 'Vegan'}, {'alias...</td>\n",
       "      <td>4.5</td>\n",
       "      <td>{'latitude': 39.960895, 'longitude': -82.996127}</td>\n",
       "      <td>[delivery, pickup]</td>\n",
       "      <td>$$</td>\n",
       "      <td>{'address1': '152 E State St', 'address2': '',...</td>\n",
       "      <td>+16142245461</td>\n",
       "      <td>(614) 224-5461</td>\n",
       "      <td>5648.599740</td>\n",
       "    </tr>\n",
       "    <tr>\n",
       "      <th>3</th>\n",
       "      <td>t82Dd-RhKZXB9eIvIH5mmQ</td>\n",
       "      <td>paulie-gees-short-north-columbus</td>\n",
       "      <td>Paulie Gee's Short North</td>\n",
       "      <td>https://s3-media3.fl.yelpcdn.com/bphoto/Bd6Pnb...</td>\n",
       "      <td>False</td>\n",
       "      <td>https://www.yelp.com/biz/paulie-gees-short-nor...</td>\n",
       "      <td>301</td>\n",
       "      <td>[{'alias': 'pizza', 'title': 'Pizza'}, {'alias...</td>\n",
       "      <td>4.5</td>\n",
       "      <td>{'latitude': 39.9867412256178, 'longitude': -8...</td>\n",
       "      <td>[delivery, pickup]</td>\n",
       "      <td>$$</td>\n",
       "      <td>{'address1': '1195 N High St', 'address2': '',...</td>\n",
       "      <td>+16148080112</td>\n",
       "      <td>(614) 808-0112</td>\n",
       "      <td>2828.076443</td>\n",
       "    </tr>\n",
       "    <tr>\n",
       "      <th>4</th>\n",
       "      <td>cLm4oc8GIN4bkQtRKWb4Tw</td>\n",
       "      <td>zammy-s-vegan-kitchen-columbus</td>\n",
       "      <td>Zammy’s Vegan Kitchen</td>\n",
       "      <td>https://s3-media2.fl.yelpcdn.com/bphoto/B1MHxe...</td>\n",
       "      <td>False</td>\n",
       "      <td>https://www.yelp.com/biz/zammy-s-vegan-kitchen...</td>\n",
       "      <td>33</td>\n",
       "      <td>[{'alias': 'vegan', 'title': 'Vegan'}, {'alias...</td>\n",
       "      <td>4.5</td>\n",
       "      <td>{'latitude': 40.11766425508829, 'longitude': -...</td>\n",
       "      <td>[]</td>\n",
       "      <td>$$</td>\n",
       "      <td>{'address1': '1155 Worthington Woods Blvd', 'a...</td>\n",
       "      <td>+16145050407</td>\n",
       "      <td>(614) 505-0407</td>\n",
       "      <td>11832.954541</td>\n",
       "    </tr>\n",
       "  </tbody>\n",
       "</table>\n",
       "</div>"
      ],
      "text/plain": [
       "                       id                             alias  \\\n",
       "0  3qAXc_4kpqxEIAamgaoNpA          woodhouse-vegan-columbus   \n",
       "1  _QEJgq3HIC5g0Rnk99RipQ             portias-cafe-columbus   \n",
       "2  gFnY2v0tnAr8umzHgSbk3Q          4th-and-state-columbus-2   \n",
       "3  t82Dd-RhKZXB9eIvIH5mmQ  paulie-gees-short-north-columbus   \n",
       "4  cLm4oc8GIN4bkQtRKWb4Tw    zammy-s-vegan-kitchen-columbus   \n",
       "\n",
       "                       name  \\\n",
       "0           Woodhouse Vegan   \n",
       "1             Portia's Cafe   \n",
       "2               4th & State   \n",
       "3  Paulie Gee's Short North   \n",
       "4     Zammy’s Vegan Kitchen   \n",
       "\n",
       "                                           image_url  is_closed  \\\n",
       "0  https://s3-media3.fl.yelpcdn.com/bphoto/Jnwq0d...      False   \n",
       "1  https://s3-media2.fl.yelpcdn.com/bphoto/Q0MCG7...      False   \n",
       "2  https://s3-media1.fl.yelpcdn.com/bphoto/J3-PkB...      False   \n",
       "3  https://s3-media3.fl.yelpcdn.com/bphoto/Bd6Pnb...      False   \n",
       "4  https://s3-media2.fl.yelpcdn.com/bphoto/B1MHxe...      False   \n",
       "\n",
       "                                                 url  review_count  \\\n",
       "0  https://www.yelp.com/biz/woodhouse-vegan-colum...            62   \n",
       "1  https://www.yelp.com/biz/portias-cafe-columbus...           387   \n",
       "2  https://www.yelp.com/biz/4th-and-state-columbu...           105   \n",
       "3  https://www.yelp.com/biz/paulie-gees-short-nor...           301   \n",
       "4  https://www.yelp.com/biz/zammy-s-vegan-kitchen...            33   \n",
       "\n",
       "                                          categories  rating  \\\n",
       "0  [{'alias': 'popuprestaurants', 'title': 'Pop-U...     4.5   \n",
       "1  [{'alias': 'vegan', 'title': 'Vegan'}, {'alias...     4.5   \n",
       "2  [{'alias': 'vegan', 'title': 'Vegan'}, {'alias...     4.5   \n",
       "3  [{'alias': 'pizza', 'title': 'Pizza'}, {'alias...     4.5   \n",
       "4  [{'alias': 'vegan', 'title': 'Vegan'}, {'alias...     4.5   \n",
       "\n",
       "                                         coordinates        transactions  \\\n",
       "0   {'latitude': 39.980514, 'longitude': -82.998578}  [delivery, pickup]   \n",
       "1  {'latitude': 40.0550327, 'longitude': -83.0000...  [delivery, pickup]   \n",
       "2   {'latitude': 39.960895, 'longitude': -82.996127}  [delivery, pickup]   \n",
       "3  {'latitude': 39.9867412256178, 'longitude': -8...  [delivery, pickup]   \n",
       "4  {'latitude': 40.11766425508829, 'longitude': -...                  []   \n",
       "\n",
       "  price                                           location         phone  \\\n",
       "0    $$  {'address1': '851 N 4th St', 'address2': '', '...  +16144009127   \n",
       "1    $$  {'address1': '4428 Indianola Ave', 'address2':...  +16149283252   \n",
       "2    $$  {'address1': '152 E State St', 'address2': '',...  +16142245461   \n",
       "3    $$  {'address1': '1195 N High St', 'address2': '',...  +16148080112   \n",
       "4    $$  {'address1': '1155 Worthington Woods Blvd', 'a...  +16145050407   \n",
       "\n",
       "    display_phone      distance  \n",
       "0  (614) 400-9127   3463.052057  \n",
       "1  (614) 928-3252   4824.120359  \n",
       "2  (614) 224-5461   5648.599740  \n",
       "3  (614) 808-0112   2828.076443  \n",
       "4  (614) 505-0407  11832.954541  "
      ]
     },
     "metadata": {},
     "output_type": "display_data"
    },
    {
     "data": {
      "text/html": [
       "<div>\n",
       "<style scoped>\n",
       "    .dataframe tbody tr th:only-of-type {\n",
       "        vertical-align: middle;\n",
       "    }\n",
       "\n",
       "    .dataframe tbody tr th {\n",
       "        vertical-align: top;\n",
       "    }\n",
       "\n",
       "    .dataframe thead th {\n",
       "        text-align: right;\n",
       "    }\n",
       "</style>\n",
       "<table border=\"1\" class=\"dataframe\">\n",
       "  <thead>\n",
       "    <tr style=\"text-align: right;\">\n",
       "      <th></th>\n",
       "      <th>id</th>\n",
       "      <th>alias</th>\n",
       "      <th>name</th>\n",
       "      <th>image_url</th>\n",
       "      <th>is_closed</th>\n",
       "      <th>url</th>\n",
       "      <th>review_count</th>\n",
       "      <th>categories</th>\n",
       "      <th>rating</th>\n",
       "      <th>coordinates</th>\n",
       "      <th>transactions</th>\n",
       "      <th>price</th>\n",
       "      <th>location</th>\n",
       "      <th>phone</th>\n",
       "      <th>display_phone</th>\n",
       "      <th>distance</th>\n",
       "    </tr>\n",
       "  </thead>\n",
       "  <tbody>\n",
       "    <tr>\n",
       "      <th>995</th>\n",
       "      <td>VLEZsm8hAuiHc68y4vyqUw</td>\n",
       "      <td>fresh-thyme-market-gahanna</td>\n",
       "      <td>Fresh Thyme Market</td>\n",
       "      <td>https://s3-media2.fl.yelpcdn.com/bphoto/njYdBo...</td>\n",
       "      <td>False</td>\n",
       "      <td>https://www.yelp.com/biz/fresh-thyme-market-ga...</td>\n",
       "      <td>43</td>\n",
       "      <td>[{'alias': 'farmersmarket', 'title': 'Farmers ...</td>\n",
       "      <td>4.0</td>\n",
       "      <td>{'latitude': 40.0488460933554, 'longitude': -8...</td>\n",
       "      <td>[]</td>\n",
       "      <td>$$</td>\n",
       "      <td>{'address1': '1125 N Hamilton Rd', 'address2':...</td>\n",
       "      <td>+16149341943</td>\n",
       "      <td>(614) 934-1943</td>\n",
       "      <td>12072.132486</td>\n",
       "    </tr>\n",
       "    <tr>\n",
       "      <th>996</th>\n",
       "      <td>DsFsaDwKf0W92ULlHhvMug</td>\n",
       "      <td>subway-marysville-33</td>\n",
       "      <td>Subway</td>\n",
       "      <td>https://s3-media1.fl.yelpcdn.com/bphoto/XMdA_1...</td>\n",
       "      <td>False</td>\n",
       "      <td>https://www.yelp.com/biz/subway-marysville-33?...</td>\n",
       "      <td>8</td>\n",
       "      <td>[{'alias': 'hotdogs', 'title': 'Fast Food'}, {...</td>\n",
       "      <td>2.0</td>\n",
       "      <td>{'latitude': 40.2389242614888, 'longitude': -8...</td>\n",
       "      <td>[]</td>\n",
       "      <td>$</td>\n",
       "      <td>{'address1': '1121 W 5th St', 'address2': '', ...</td>\n",
       "      <td>+19376423030</td>\n",
       "      <td>(937) 642-3030</td>\n",
       "      <td>41601.982312</td>\n",
       "    </tr>\n",
       "    <tr>\n",
       "      <th>997</th>\n",
       "      <td>gA1CXE2vieV3KNdvKKZ4zQ</td>\n",
       "      <td>maanas-lewis-center</td>\n",
       "      <td>Maanas</td>\n",
       "      <td>https://s3-media3.fl.yelpcdn.com/bphoto/94GVYj...</td>\n",
       "      <td>False</td>\n",
       "      <td>https://www.yelp.com/biz/maanas-lewis-center?a...</td>\n",
       "      <td>111</td>\n",
       "      <td>[{'alias': 'indpak', 'title': 'Indian'}, {'ali...</td>\n",
       "      <td>3.5</td>\n",
       "      <td>{'latitude': 40.153572, 'longitude': -82.999481}</td>\n",
       "      <td>[pickup, delivery]</td>\n",
       "      <td>$$</td>\n",
       "      <td>{'address1': '1335 Cameron Ave', 'address2': '...</td>\n",
       "      <td>+16144346464</td>\n",
       "      <td>(614) 434-6464</td>\n",
       "      <td>15780.314712</td>\n",
       "    </tr>\n",
       "    <tr>\n",
       "      <th>998</th>\n",
       "      <td>CjxfjNUxakxVcIBDk2bF8g</td>\n",
       "      <td>tropical-smoothie-cafe-columbus-5</td>\n",
       "      <td>Tropical Smoothie Cafe</td>\n",
       "      <td>https://s3-media1.fl.yelpcdn.com/bphoto/mGl7iW...</td>\n",
       "      <td>False</td>\n",
       "      <td>https://www.yelp.com/biz/tropical-smoothie-caf...</td>\n",
       "      <td>34</td>\n",
       "      <td>[{'alias': 'juicebars', 'title': 'Juice Bars &amp;...</td>\n",
       "      <td>3.5</td>\n",
       "      <td>{'latitude': 40.146994296360845, 'longitude': ...</td>\n",
       "      <td>[pickup, delivery]</td>\n",
       "      <td>NaN</td>\n",
       "      <td>{'address1': '8928 Lyra Dr', 'address2': None,...</td>\n",
       "      <td>+16145058689</td>\n",
       "      <td>(614) 505-8689</td>\n",
       "      <td>15191.746876</td>\n",
       "    </tr>\n",
       "    <tr>\n",
       "      <th>999</th>\n",
       "      <td>mBLX3LxfjJ6FqDz6XXX_0Q</td>\n",
       "      <td>zoup-columbus</td>\n",
       "      <td>Zoup!</td>\n",
       "      <td>https://s3-media1.fl.yelpcdn.com/bphoto/ka7HE-...</td>\n",
       "      <td>False</td>\n",
       "      <td>https://www.yelp.com/biz/zoup-columbus?adjust_...</td>\n",
       "      <td>44</td>\n",
       "      <td>[{'alias': 'soup', 'title': 'Soup'}, {'alias':...</td>\n",
       "      <td>3.0</td>\n",
       "      <td>{'latitude': 39.9610998, 'longitude': -83.0009...</td>\n",
       "      <td>[pickup, delivery]</td>\n",
       "      <td>$</td>\n",
       "      <td>{'address1': '41 S High St', 'address2': 'Ste ...</td>\n",
       "      <td>+16144057800</td>\n",
       "      <td>(614) 405-7800</td>\n",
       "      <td>5624.191405</td>\n",
       "    </tr>\n",
       "  </tbody>\n",
       "</table>\n",
       "</div>"
      ],
      "text/plain": [
       "                         id                              alias  \\\n",
       "995  VLEZsm8hAuiHc68y4vyqUw         fresh-thyme-market-gahanna   \n",
       "996  DsFsaDwKf0W92ULlHhvMug               subway-marysville-33   \n",
       "997  gA1CXE2vieV3KNdvKKZ4zQ                maanas-lewis-center   \n",
       "998  CjxfjNUxakxVcIBDk2bF8g  tropical-smoothie-cafe-columbus-5   \n",
       "999  mBLX3LxfjJ6FqDz6XXX_0Q                      zoup-columbus   \n",
       "\n",
       "                       name  \\\n",
       "995      Fresh Thyme Market   \n",
       "996                  Subway   \n",
       "997                  Maanas   \n",
       "998  Tropical Smoothie Cafe   \n",
       "999                   Zoup!   \n",
       "\n",
       "                                             image_url  is_closed  \\\n",
       "995  https://s3-media2.fl.yelpcdn.com/bphoto/njYdBo...      False   \n",
       "996  https://s3-media1.fl.yelpcdn.com/bphoto/XMdA_1...      False   \n",
       "997  https://s3-media3.fl.yelpcdn.com/bphoto/94GVYj...      False   \n",
       "998  https://s3-media1.fl.yelpcdn.com/bphoto/mGl7iW...      False   \n",
       "999  https://s3-media1.fl.yelpcdn.com/bphoto/ka7HE-...      False   \n",
       "\n",
       "                                                   url  review_count  \\\n",
       "995  https://www.yelp.com/biz/fresh-thyme-market-ga...            43   \n",
       "996  https://www.yelp.com/biz/subway-marysville-33?...             8   \n",
       "997  https://www.yelp.com/biz/maanas-lewis-center?a...           111   \n",
       "998  https://www.yelp.com/biz/tropical-smoothie-caf...            34   \n",
       "999  https://www.yelp.com/biz/zoup-columbus?adjust_...            44   \n",
       "\n",
       "                                            categories  rating  \\\n",
       "995  [{'alias': 'farmersmarket', 'title': 'Farmers ...     4.0   \n",
       "996  [{'alias': 'hotdogs', 'title': 'Fast Food'}, {...     2.0   \n",
       "997  [{'alias': 'indpak', 'title': 'Indian'}, {'ali...     3.5   \n",
       "998  [{'alias': 'juicebars', 'title': 'Juice Bars &...     3.5   \n",
       "999  [{'alias': 'soup', 'title': 'Soup'}, {'alias':...     3.0   \n",
       "\n",
       "                                           coordinates        transactions  \\\n",
       "995  {'latitude': 40.0488460933554, 'longitude': -8...                  []   \n",
       "996  {'latitude': 40.2389242614888, 'longitude': -8...                  []   \n",
       "997   {'latitude': 40.153572, 'longitude': -82.999481}  [pickup, delivery]   \n",
       "998  {'latitude': 40.146994296360845, 'longitude': ...  [pickup, delivery]   \n",
       "999  {'latitude': 39.9610998, 'longitude': -83.0009...  [pickup, delivery]   \n",
       "\n",
       "    price                                           location         phone  \\\n",
       "995    $$  {'address1': '1125 N Hamilton Rd', 'address2':...  +16149341943   \n",
       "996     $  {'address1': '1121 W 5th St', 'address2': '', ...  +19376423030   \n",
       "997    $$  {'address1': '1335 Cameron Ave', 'address2': '...  +16144346464   \n",
       "998   NaN  {'address1': '8928 Lyra Dr', 'address2': None,...  +16145058689   \n",
       "999     $  {'address1': '41 S High St', 'address2': 'Ste ...  +16144057800   \n",
       "\n",
       "      display_phone      distance  \n",
       "995  (614) 934-1943  12072.132486  \n",
       "996  (937) 642-3030  41601.982312  \n",
       "997  (614) 434-6464  15780.314712  \n",
       "998  (614) 505-8689  15191.746876  \n",
       "999  (614) 405-7800   5624.191405  "
      ]
     },
     "metadata": {},
     "output_type": "display_data"
    }
   ],
   "source": [
    "#load final results\n",
    "final_df = pd.read_json(joiho)\n",
    "display(final_df.head(), final_df.tail())"
   ]
  },
  {
   "cell_type": "code",
   "execution_count": 12,
   "id": "29609c08-9b1d-4979-87da-6a82b06ceca2",
   "metadata": {
    "scrolled": true
   },
   "outputs": [
    {
     "data": {
      "text/plain": [
       "0"
      ]
     },
     "execution_count": 12,
     "metadata": {},
     "output_type": "execute_result"
    }
   ],
   "source": [
    "#check for duplicate results\n",
    "final_df.duplicated(subset='id').sum()"
   ]
  },
  {
   "cell_type": "code",
   "execution_count": 15,
   "id": "3d36da5c-cfa2-454c-a593-ac0661f2f254",
   "metadata": {},
   "outputs": [],
   "source": [
    "final_df.to_csv('data/final_results_ohio.csv.gz', compression = 'gzip',\n",
    "                index=False)"
   ]
  }
 ],
 "metadata": {
  "kernelspec": {
   "display_name": "Python (dojo-env)",
   "language": "python",
   "name": "dojo-env"
  },
  "language_info": {
   "codemirror_mode": {
    "name": "ipython",
    "version": 3
   },
   "file_extension": ".py",
   "mimetype": "text/x-python",
   "name": "python",
   "nbconvert_exporter": "python",
   "pygments_lexer": "ipython3",
   "version": "3.10.10"
  },
  "widgets": {
   "application/vnd.jupyter.widget-state+json": {
    "state": {
     "05e6fb7fbda640a5af2bb630c42702e7": {
      "model_module": "@jupyter-widgets/base",
      "model_module_version": "2.0.0",
      "model_name": "LayoutModel",
      "state": {}
     },
     "2470c2ee0b1a40e384d4ba3f8f50493c": {
      "model_module": "@jupyter-widgets/controls",
      "model_module_version": "2.0.0",
      "model_name": "HTMLModel",
      "state": {
       "layout": "IPY_MODEL_d9cf4bf61b534410b64d3d219d525307",
       "style": "IPY_MODEL_f612bc86c8cc4f6aa95509b9b3cee76d",
       "value": " 91%"
      }
     },
     "7be272469a654822b7d8e81c8264e81f": {
      "model_module": "@jupyter-widgets/controls",
      "model_module_version": "2.0.0",
      "model_name": "FloatProgressModel",
      "state": {
       "bar_style": "danger",
       "layout": "IPY_MODEL_05e6fb7fbda640a5af2bb630c42702e7",
       "max": 55,
       "style": "IPY_MODEL_ae09fc9e9bb344a6a6204d1dcca53949",
       "value": 50
      }
     },
     "9472c6b5fb844f20960e6d91afe02059": {
      "model_module": "@jupyter-widgets/base",
      "model_module_version": "2.0.0",
      "model_name": "LayoutModel",
      "state": {}
     },
     "ae09fc9e9bb344a6a6204d1dcca53949": {
      "model_module": "@jupyter-widgets/controls",
      "model_module_version": "2.0.0",
      "model_name": "ProgressStyleModel",
      "state": {
       "description_width": ""
      }
     },
     "c05f48b04e54451bb8af95b8a9f9fd47": {
      "model_module": "@jupyter-widgets/base",
      "model_module_version": "2.0.0",
      "model_name": "LayoutModel",
      "state": {}
     },
     "c1a796fcbbd24277a22d966846036728": {
      "model_module": "@jupyter-widgets/controls",
      "model_module_version": "2.0.0",
      "model_name": "HTMLModel",
      "state": {
       "layout": "IPY_MODEL_c05f48b04e54451bb8af95b8a9f9fd47",
       "style": "IPY_MODEL_c92467a50851475abf64f8af9db4b3c6",
       "value": " 50/55 [01:01&lt;00:08,  1.71s/it]"
      }
     },
     "c92467a50851475abf64f8af9db4b3c6": {
      "model_module": "@jupyter-widgets/controls",
      "model_module_version": "2.0.0",
      "model_name": "HTMLStyleModel",
      "state": {
       "description_width": "",
       "font_size": null,
       "text_color": null
      }
     },
     "d9cf4bf61b534410b64d3d219d525307": {
      "model_module": "@jupyter-widgets/base",
      "model_module_version": "2.0.0",
      "model_name": "LayoutModel",
      "state": {}
     },
     "f612bc86c8cc4f6aa95509b9b3cee76d": {
      "model_module": "@jupyter-widgets/controls",
      "model_module_version": "2.0.0",
      "model_name": "HTMLStyleModel",
      "state": {
       "description_width": "",
       "font_size": null,
       "text_color": null
      }
     },
     "fbe895632a98471f8d54869da483c4de": {
      "model_module": "@jupyter-widgets/controls",
      "model_module_version": "2.0.0",
      "model_name": "HBoxModel",
      "state": {
       "children": [
        "IPY_MODEL_2470c2ee0b1a40e384d4ba3f8f50493c",
        "IPY_MODEL_7be272469a654822b7d8e81c8264e81f",
        "IPY_MODEL_c1a796fcbbd24277a22d966846036728"
       ],
       "layout": "IPY_MODEL_9472c6b5fb844f20960e6d91afe02059"
      }
     }
    },
    "version_major": 2,
    "version_minor": 0
   }
  }
 },
 "nbformat": 4,
 "nbformat_minor": 5
}
